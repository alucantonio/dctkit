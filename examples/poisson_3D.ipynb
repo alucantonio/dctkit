{
 "cells": [
  {
   "cell_type": "code",
   "execution_count": 2,
   "id": "4de97868-2f1e-4d44-8933-3e16d154cbdf",
   "metadata": {},
   "outputs": [],
   "source": [
    "%load_ext autoreload"
   ]
  },
  {
   "cell_type": "code",
   "execution_count": 66,
   "id": "9f92939f-6f36-4192-af7f-3f8a46170566",
   "metadata": {},
   "outputs": [],
   "source": [
    "%autoreload\n",
    "import numpy as np\n",
    "from dctkit.mesh import util, simplex\n",
    "from dctkit.math.opt import optctrl as oc\n",
    "import dctkit.dec.cochain as C\n",
    "import dctkit as dt\n",
    "import pygmsh\n",
    "import pyvista as pv\n",
    "from pyvista import themes"
   ]
  },
  {
   "cell_type": "code",
   "execution_count": 67,
   "id": "82bcfde1-8306-4144-8397-fcc34a4fa8ca",
   "metadata": {},
   "outputs": [],
   "source": [
    "dt.config()\n",
    "pv.set_jupyter_backend('trame')\n",
    "pv.global_theme = themes.ParaViewTheme()"
   ]
  },
  {
   "cell_type": "code",
   "execution_count": 68,
   "id": "179ad2e2-7d27-46d9-88cd-9127ba3f74e2",
   "metadata": {},
   "outputs": [],
   "source": [
    "lc = 0.2\n",
    "with pygmsh.geo.Geometry() as geom:\n",
    "        poly = geom.add_polygon([[0.0, 0.0], [1.0, 0.0], [1.0, 1.0], [0.0, 1.0]], lc)\n",
    "\n",
    "        top, volume, lat = geom.extrude(poly, [0, 0, 1.0])\n",
    "        \n",
    "        geom.add_physical(poly, label=\"bottom\")\n",
    "        geom.add_physical(top, label=\"top\")\n",
    "        geom.add_physical(volume, label=\"volume\")\n",
    "        geom.add_physical(lat, label=\"lat\")\n",
    "        mesh = geom.generate_mesh()\n",
    "\n",
    "#pv.plot(mesh)"
   ]
  },
  {
   "cell_type": "code",
   "execution_count": 69,
   "id": "84dddb4f-e1e2-41c3-8a9b-1c332bc2006a",
   "metadata": {},
   "outputs": [],
   "source": [
    "bottom_faces_ids = mesh.cell_sets_dict['bottom']['triangle']"
   ]
  },
  {
   "cell_type": "code",
   "execution_count": 70,
   "id": "bb98a3cb-e8b4-4080-99cc-5d073063ba42",
   "metadata": {},
   "outputs": [
    {
     "name": "stdout",
     "output_type": "stream",
     "text": [
      "number of nodes =  237\n",
      "number of tets =  741\n"
     ]
    }
   ],
   "source": [
    "node_coords = mesh.points\n",
    "num_nodes = node_coords.shape[0]\n",
    "tet_node_tags = mesh.cells[2].data\n",
    "print(\"number of nodes = \", num_nodes)\n",
    "print(\"number of tets = \", tet_node_tags.shape[0])"
   ]
  },
  {
   "cell_type": "code",
   "execution_count": 71,
   "id": "1c0c23d1-f847-4b7b-be85-2691994d4ccd",
   "metadata": {},
   "outputs": [],
   "source": [
    "spx = simplex.SimplicialComplex(tet_node_tags, node_coords, is_well_centered=True)\n",
    "spx.get_circumcenters()\n",
    "spx.get_primal_volumes()\n",
    "spx.get_dual_volumes()\n",
    "spx.get_hodge_star()\n",
    "# S.get_dual_edge_vectors()\n",
    "# S.get_flat_weights()"
   ]
  },
  {
   "cell_type": "code",
   "execution_count": 72,
   "id": "18d95a59-6dbb-43af-9743-6e2ff45b390a",
   "metadata": {},
   "outputs": [
    {
     "data": {
      "text/plain": [
       "(array([  0,   1,   2,   3,   8,   9,  10,  11,  12,  13,  14,  15,  16,\n",
       "         17,  18,  19,  20,  21,  22,  23,  56,  57,  58,  59,  60,  61,\n",
       "         62,  63,  64,  65,  66,  67,  68,  69,  70,  71,  72,  73,  74,\n",
       "         75,  76,  77,  78,  79,   4,   5,   6,   7,  24,  25,  26,  27,\n",
       "         28,  29,  30,  31,  32,  33,  34,  35,  36,  37,  38,  39, 178,\n",
       "        179, 180, 181, 182, 183, 184, 185, 186, 187, 188, 189, 190, 191,\n",
       "        192, 193, 194, 195, 196, 197, 198, 199, 200, 201]),\n",
       " array([0., 0., 0., 0., 0., 0., 0., 0., 0., 0., 0., 0., 0., 0., 0., 0., 0.,\n",
       "        0., 0., 0., 0., 0., 0., 0., 0., 0., 0., 0., 0., 0., 0., 0., 0., 0.,\n",
       "        0., 0., 0., 0., 0., 0., 0., 0., 0., 0., 0., 0., 0., 0., 0., 0., 0.,\n",
       "        0., 0., 0., 0., 0., 0., 0., 0., 0., 0., 0., 0., 0., 0., 0., 0., 0.,\n",
       "        0., 0., 0., 0., 0., 0., 0., 0., 0., 0., 0., 0., 0., 0., 0., 0., 0.,\n",
       "        0., 0., 0.]))"
      ]
     },
     "execution_count": 72,
     "metadata": {},
     "output_type": "execute_result"
    }
   ],
   "source": [
    "# boundary conditions\n",
    "# bottom_nodes = spx.S[2][bottom_faces_ids]\n",
    "# bottom_nodes = np.unique(bottom_nodes.flatten())\n",
    "bottom_nodes = np.argwhere(spx.node_coord[:,2]<1e-6).flatten()\n",
    "top_nodes = np.argwhere(abs(spx.node_coord[:,2]-1.)<1e-6).flatten()\n",
    "values = np.zeros(len(bottom_nodes)+len(top_nodes), dtype=dt.float_dtype)\n",
    "boundary_values = (np.hstack((bottom_nodes,top_nodes)), values)\n",
    "boundary_values"
   ]
  },
  {
   "cell_type": "code",
   "execution_count": 73,
   "id": "c32ba0bf-2885-4c85-ad9a-f426463cab26",
   "metadata": {},
   "outputs": [],
   "source": [
    "from functools import partial\n",
    "from dctkit.apps import poisson as p\n",
    "\n",
    "obj = partial(p.energy_poisson, S=spx)\n",
    "k = 1.\n",
    "f_vec = np.ones(num_nodes, dtype=dt.float_dtype)\n",
    "gamma = 1000.\n",
    "args = {'f': f_vec, 'k': k, 'boundary_values': boundary_values,\n",
    "        'gamma': gamma}\n",
    "\n",
    "u_0 = np.zeros(num_nodes, dt.float_dtype)"
   ]
  },
  {
   "cell_type": "code",
   "execution_count": 74,
   "id": "ff963044-5321-4516-86fc-37d2a4e66b92",
   "metadata": {},
   "outputs": [
    {
     "data": {
      "text/plain": [
       "1"
      ]
     },
     "execution_count": 74,
     "metadata": {},
     "output_type": "execute_result"
    }
   ],
   "source": [
    "prb = oc.OptimizationProblem(dim=num_nodes, state_dim=num_nodes, objfun=obj)\n",
    "prb.set_obj_args(args)\n",
    "u = prb.run(u_0, ftol_abs=1e-8, ftol_rel=1e-8)\n",
    "prb.last_opt_result"
   ]
  },
  {
   "cell_type": "code",
   "execution_count": 75,
   "id": "e9a0d608-1c77-40fe-abd0-920b65601c75",
   "metadata": {},
   "outputs": [
    {
     "data": {
      "application/vnd.jupyter.widget-view+json": {
       "model_id": "47aca854b7dd412da34d8f7d4a500f7d",
       "version_major": 2,
       "version_minor": 0
      },
      "text/plain": [
       "Widget(value=\"<iframe src='http://localhost:38941/index.html?ui=P_0x7f69a8143cd0_7&reconnect=auto' style='widt…"
      ]
     },
     "metadata": {},
     "output_type": "display_data"
    }
   ],
   "source": [
    "mesh.point_data['u'] = u\n",
    "pv.plot(mesh)"
   ]
  },
  {
   "cell_type": "code",
   "execution_count": null,
   "id": "247ab9e1-0ee5-495d-879e-f39183ef2f9c",
   "metadata": {},
   "outputs": [],
   "source": []
  },
  {
   "cell_type": "code",
   "execution_count": null,
   "id": "5d9866a0-29bd-4bb3-810a-35caa7efb5e1",
   "metadata": {},
   "outputs": [],
   "source": []
  }
 ],
 "metadata": {
  "kernelspec": {
   "display_name": "Python 3 (ipykernel)",
   "language": "python",
   "name": "python3"
  },
  "language_info": {
   "codemirror_mode": {
    "name": "ipython",
    "version": 3
   },
   "file_extension": ".py",
   "mimetype": "text/x-python",
   "name": "python",
   "nbconvert_exporter": "python",
   "pygments_lexer": "ipython3",
   "version": "3.10.8"
  }
 },
 "nbformat": 4,
 "nbformat_minor": 5
}
