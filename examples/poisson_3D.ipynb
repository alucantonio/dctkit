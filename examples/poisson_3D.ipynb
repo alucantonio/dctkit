{
 "cells": [
  {
   "cell_type": "code",
   "execution_count": 2,
   "id": "4de97868-2f1e-4d44-8933-3e16d154cbdf",
   "metadata": {},
   "outputs": [],
   "source": [
    "%load_ext autoreload"
   ]
  },
  {
   "cell_type": "code",
   "execution_count": 17,
   "id": "9f92939f-6f36-4192-af7f-3f8a46170566",
   "metadata": {},
   "outputs": [],
   "source": [
    "%autoreload\n",
    "import numpy as np\n",
    "import jax.numpy as jnp\n",
    "from dctkit.mesh import util, simplex\n",
    "from dctkit.math.opt import optctrl as oc\n",
    "import dctkit.dec.cochain as C\n",
    "import dctkit as dt\n",
    "import pygmsh\n",
    "import pyvista as pv\n",
    "from pyvista import themes"
   ]
  },
  {
   "cell_type": "code",
   "execution_count": 18,
   "id": "82bcfde1-8306-4144-8397-fcc34a4fa8ca",
   "metadata": {},
   "outputs": [],
   "source": [
    "dt.config()\n",
    "pv.set_jupyter_backend('trame')\n",
    "pv.global_theme = themes.ParaViewTheme()"
   ]
  },
  {
   "cell_type": "code",
   "execution_count": 25,
   "id": "179ad2e2-7d27-46d9-88cd-9127ba3f74e2",
   "metadata": {
    "scrolled": true
   },
   "outputs": [
    {
     "name": "stdout",
     "output_type": "stream",
     "text": [
      "tetra\n",
      "number of nodes =  237\n",
      "number of tets =  741\n"
     ]
    }
   ],
   "source": [
    "lc = 0.2\n",
    "mesh, _ = util.generate_cube_mesh(lc)\n",
    "#pv.plot(mesh)\n",
    "S = util.build_complex_from_mesh(mesh)\n",
    "num_nodes = S.num_nodes\n",
    "print(\"number of nodes = \", num_nodes)\n",
    "print(\"number of tets = \", S.S[3].shape[0])\n",
    "S.get_hodge_star()"
   ]
  },
  {
   "cell_type": "code",
   "execution_count": 26,
   "id": "18d95a59-6dbb-43af-9743-6e2ff45b390a",
   "metadata": {},
   "outputs": [
    {
     "data": {
      "text/plain": [
       "(array([  0,   1,   2,   3,   8,   9,  10,  11,  12,  13,  14,  15,  16,\n",
       "         17,  18,  19,  20,  21,  22,  23,  56,  57,  58,  59,  60,  61,\n",
       "         62,  63,  64,  65,  66,  67,  68,  69,  70,  71,  72,  73,  74,\n",
       "         75,  76,  77,  78,  79,   4,   5,   6,   7,  24,  25,  26,  27,\n",
       "         28,  29,  30,  31,  32,  33,  34,  35,  36,  37,  38,  39, 178,\n",
       "        179, 180, 181, 182, 183, 184, 185, 186, 187, 188, 189, 190, 191,\n",
       "        192, 193, 194, 195, 196, 197, 198, 199, 200, 201]),\n",
       " array([0., 0., 0., 0., 0., 0., 0., 0., 0., 0., 0., 0., 0., 0., 0., 0., 0.,\n",
       "        0., 0., 0., 0., 0., 0., 0., 0., 0., 0., 0., 0., 0., 0., 0., 0., 0.,\n",
       "        0., 0., 0., 0., 0., 0., 0., 0., 0., 0., 0., 0., 0., 0., 0., 0., 0.,\n",
       "        0., 0., 0., 0., 0., 0., 0., 0., 0., 0., 0., 0., 0., 0., 0., 0., 0.,\n",
       "        0., 0., 0., 0., 0., 0., 0., 0., 0., 0., 0., 0., 0., 0., 0., 0., 0.,\n",
       "        0., 0., 0.]))"
      ]
     },
     "execution_count": 26,
     "metadata": {},
     "output_type": "execute_result"
    }
   ],
   "source": [
    "# boundary conditions\n",
    "bottom_nodes = np.argwhere(S.node_coords[:,2]<1e-6).flatten()\n",
    "top_nodes = np.argwhere(abs(S.node_coords[:,2]-1.)<1e-6).flatten()\n",
    "values = np.zeros(len(bottom_nodes)+len(top_nodes), dtype=dt.float_dtype)\n",
    "boundary_values = (np.hstack((bottom_nodes,top_nodes)), values)"
   ]
  },
  {
   "cell_type": "code",
   "execution_count": 27,
   "id": "c32ba0bf-2885-4c85-ad9a-f426463cab26",
   "metadata": {},
   "outputs": [],
   "source": [
    "from functools import partial\n",
    "from dctkit.physics import poisson as p\n",
    "\n",
    "def disspot(u, u_prev, deltat):\n",
    "    u_coch = C.CochainP0(S, u)\n",
    "    u_prev_coch = C.CochainP0(S, u_prev)\n",
    "    u_diff = C.sub(u_coch, u_prev_coch)\n",
    "    return (1/2)*C.inner_product(u_diff, u_diff)/deltat\n",
    "\n",
    "energy = partial(p.energy_poisson, S=S)\n",
    "\n",
    "def obj(u, u_prev, f, k, boundary_values, gamma, deltat):\n",
    "    en = energy(x=u, f=f, k=k, boundary_values=boundary_values, gamma=gamma)\n",
    "    return en + disspot(u, u_prev, deltat)\n",
    "\n",
    "k = 1.\n",
    "f_vec = np.ones(num_nodes, dtype=dt.float_dtype)\n",
    "gamma = 1000.\n",
    "deltat = 0.1\n",
    "\n",
    "u_0 = np.zeros(num_nodes, dt.float_dtype)\n",
    "u_prev = u_0"
   ]
  },
  {
   "cell_type": "code",
   "execution_count": 28,
   "id": "ff963044-5321-4516-86fc-37d2a4e66b92",
   "metadata": {},
   "outputs": [
    {
     "name": "stdout",
     "output_type": "stream",
     "text": [
      "t =  0.1\n",
      "t =  0.2\n",
      "t =  0.30000000000000004\n",
      "t =  0.4\n",
      "t =  0.5\n",
      "t =  0.6000000000000001\n",
      "t =  0.7000000000000001\n",
      "t =  0.8\n",
      "t =  0.9\n",
      "t =  1.0\n"
     ]
    },
    {
     "data": {
      "text/plain": [
       "1"
      ]
     },
     "execution_count": 28,
     "metadata": {},
     "output_type": "execute_result"
    }
   ],
   "source": [
    "sols = []\n",
    "prb = oc.OptimizationProblem(dim=num_nodes, state_dim=num_nodes, objfun=obj)\n",
    "for i in range(10):\n",
    "    print(\"t = \", (i+1)*deltat)\n",
    "    args = {'u_prev': u_prev, 'f': f_vec, 'k': k, 'boundary_values': boundary_values,\n",
    "        'gamma': gamma, 'deltat': deltat}\n",
    "    prb.set_obj_args(args)\n",
    "    u = prb.run(u_prev, ftol_abs=1e-8, ftol_rel=1e-8)\n",
    "    u_prev = u.__array__()\n",
    "    sols.append(u)\n",
    "prb.last_opt_result"
   ]
  },
  {
   "cell_type": "code",
   "execution_count": 29,
   "id": "e9a0d608-1c77-40fe-abd0-920b65601c75",
   "metadata": {},
   "outputs": [
    {
     "data": {
      "application/vnd.jupyter.widget-view+json": {
       "model_id": "5e71fa1f4aac496a8e21c2d0f5e8a98c",
       "version_major": 2,
       "version_minor": 0
      },
      "text/plain": [
       "Widget(value=\"<iframe src='http://localhost:33213/index.html?ui=P_0x7f3a706426b0_1&reconnect=auto' style='widt…"
      ]
     },
     "metadata": {},
     "output_type": "display_data"
    }
   ],
   "source": [
    "p = pv.Plotter()\n",
    "p.add_mesh(mesh, scalars=sols[-1])\n",
    "p.show()"
   ]
  },
  {
   "cell_type": "code",
   "execution_count": 30,
   "id": "247ab9e1-0ee5-495d-879e-f39183ef2f9c",
   "metadata": {},
   "outputs": [],
   "source": [
    "import meshio\n",
    "filename = \"timedata.xdmf\"\n",
    "points = mesh.points\n",
    "cells = {\"tetra\": mesh.cells_dict[\"tetra\"]}\n",
    "with meshio.xdmf.TimeSeriesWriter(filename) as writer:\n",
    "    writer.write_points_cells(points, cells)\n",
    "    for i in range(10):\n",
    "        writer.write_data(i, point_data={\"u\": sols[i]})"
   ]
  },
  {
   "cell_type": "code",
   "execution_count": null,
   "id": "1de804fc-920f-4fbb-802a-cbfc00d58d4e",
   "metadata": {},
   "outputs": [],
   "source": []
  }
 ],
 "metadata": {
  "kernelspec": {
   "display_name": "Python 3 (ipykernel)",
   "language": "python",
   "name": "python3"
  },
  "language_info": {
   "codemirror_mode": {
    "name": "ipython",
    "version": 3
   },
   "file_extension": ".py",
   "mimetype": "text/x-python",
   "name": "python",
   "nbconvert_exporter": "python",
   "pygments_lexer": "ipython3",
   "version": "3.10.8"
  }
 },
 "nbformat": 4,
 "nbformat_minor": 5
}
