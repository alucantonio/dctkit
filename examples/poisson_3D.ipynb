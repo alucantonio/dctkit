{
 "cells": [
  {
   "cell_type": "code",
   "execution_count": 1,
   "id": "4de97868-2f1e-4d44-8933-3e16d154cbdf",
   "metadata": {},
   "outputs": [],
   "source": [
    "%load_ext autoreload"
   ]
  },
  {
   "cell_type": "code",
   "execution_count": 2,
   "id": "9f92939f-6f36-4192-af7f-3f8a46170566",
   "metadata": {},
   "outputs": [],
   "source": [
    "%autoreload\n",
    "import numpy as np\n",
    "import jax.numpy as jnp\n",
    "from dctkit.mesh import util, simplex\n",
    "from dctkit.math.opt import optctrl as oc\n",
    "import dctkit.dec.cochain as C\n",
    "import dctkit as dt\n",
    "import pygmsh\n",
    "import pyvista as pv\n",
    "from pyvista import themes"
   ]
  },
  {
   "cell_type": "code",
   "execution_count": 3,
   "id": "82bcfde1-8306-4144-8397-fcc34a4fa8ca",
   "metadata": {},
   "outputs": [],
   "source": [
    "dt.config()\n",
    "pv.set_jupyter_backend('trame')\n",
    "pv.global_theme = themes.ParaViewTheme()"
   ]
  },
  {
   "cell_type": "code",
   "execution_count": 4,
   "id": "179ad2e2-7d27-46d9-88cd-9127ba3f74e2",
   "metadata": {},
   "outputs": [],
   "source": [
    "lc = 0.2\n",
    "with pygmsh.geo.Geometry() as geom:\n",
    "        poly = geom.add_polygon([[0.0, 0.0], [1.0, 0.0], [1.0, 1.0], [0.0, 1.0]], lc)\n",
    "\n",
    "        top, volume, lat = geom.extrude(poly, [0, 0, 1.0])\n",
    "        \n",
    "        geom.add_physical(poly, label=\"bottom\")\n",
    "        geom.add_physical(top, label=\"top\")\n",
    "        geom.add_physical(volume, label=\"volume\")\n",
    "        geom.add_physical(lat, label=\"lat\")\n",
    "        mesh = geom.generate_mesh()\n",
    "\n",
    "#pv.plot(mesh)"
   ]
  },
  {
   "cell_type": "code",
   "execution_count": 5,
   "id": "84dddb4f-e1e2-41c3-8a9b-1c332bc2006a",
   "metadata": {},
   "outputs": [],
   "source": [
    "bottom_faces_ids = mesh.cell_sets_dict['bottom']['triangle']"
   ]
  },
  {
   "cell_type": "code",
   "execution_count": 6,
   "id": "bb98a3cb-e8b4-4080-99cc-5d073063ba42",
   "metadata": {},
   "outputs": [
    {
     "name": "stdout",
     "output_type": "stream",
     "text": [
      "number of nodes =  237\n",
      "number of tets =  741\n"
     ]
    }
   ],
   "source": [
    "node_coords = mesh.points\n",
    "num_nodes = node_coords.shape[0]\n",
    "tet_node_tags = mesh.cells[2].data\n",
    "print(\"number of nodes = \", num_nodes)\n",
    "print(\"number of tets = \", tet_node_tags.shape[0])"
   ]
  },
  {
   "cell_type": "code",
   "execution_count": 7,
   "id": "1c0c23d1-f847-4b7b-be85-2691994d4ccd",
   "metadata": {},
   "outputs": [],
   "source": [
    "spx = simplex.SimplicialComplex(tet_node_tags, node_coords, is_well_centered=True)\n",
    "spx.get_circumcenters()\n",
    "spx.get_primal_volumes()\n",
    "spx.get_dual_volumes()\n",
    "spx.get_hodge_star()\n",
    "# S.get_dual_edge_vectors()\n",
    "# S.get_flat_weights()"
   ]
  },
  {
   "cell_type": "code",
   "execution_count": 8,
   "id": "18d95a59-6dbb-43af-9743-6e2ff45b390a",
   "metadata": {},
   "outputs": [
    {
     "data": {
      "text/plain": [
       "(array([  0,   1,   2,   3,   8,   9,  10,  11,  12,  13,  14,  15,  16,\n",
       "         17,  18,  19,  20,  21,  22,  23,  56,  57,  58,  59,  60,  61,\n",
       "         62,  63,  64,  65,  66,  67,  68,  69,  70,  71,  72,  73,  74,\n",
       "         75,  76,  77,  78,  79,   4,   5,   6,   7,  24,  25,  26,  27,\n",
       "         28,  29,  30,  31,  32,  33,  34,  35,  36,  37,  38,  39, 178,\n",
       "        179, 180, 181, 182, 183, 184, 185, 186, 187, 188, 189, 190, 191,\n",
       "        192, 193, 194, 195, 196, 197, 198, 199, 200, 201]),\n",
       " array([0., 0., 0., 0., 0., 0., 0., 0., 0., 0., 0., 0., 0., 0., 0., 0., 0.,\n",
       "        0., 0., 0., 0., 0., 0., 0., 0., 0., 0., 0., 0., 0., 0., 0., 0., 0.,\n",
       "        0., 0., 0., 0., 0., 0., 0., 0., 0., 0., 0., 0., 0., 0., 0., 0., 0.,\n",
       "        0., 0., 0., 0., 0., 0., 0., 0., 0., 0., 0., 0., 0., 0., 0., 0., 0.,\n",
       "        0., 0., 0., 0., 0., 0., 0., 0., 0., 0., 0., 0., 0., 0., 0., 0., 0.,\n",
       "        0., 0., 0.]))"
      ]
     },
     "execution_count": 8,
     "metadata": {},
     "output_type": "execute_result"
    }
   ],
   "source": [
    "# boundary conditions\n",
    "# bottom_nodes = spx.S[2][bottom_faces_ids]\n",
    "# bottom_nodes = np.unique(bottom_nodes.flatten())\n",
    "bottom_nodes = np.argwhere(spx.node_coord[:,2]<1e-6).flatten()\n",
    "top_nodes = np.argwhere(abs(spx.node_coord[:,2]-1.)<1e-6).flatten()\n",
    "values = np.zeros(len(bottom_nodes)+len(top_nodes), dtype=dt.float_dtype)\n",
    "boundary_values = (np.hstack((bottom_nodes,top_nodes)), values)\n",
    "boundary_values"
   ]
  },
  {
   "cell_type": "code",
   "execution_count": 9,
   "id": "c32ba0bf-2885-4c85-ad9a-f426463cab26",
   "metadata": {},
   "outputs": [],
   "source": [
    "from functools import partial\n",
    "from dctkit.physics import poisson as p\n",
    "\n",
    "def disspot(u, u_prev, deltat):\n",
    "    u_coch = C.CochainP0(spx, u)\n",
    "    u_prev_coch = C.CochainP0(spx, u_prev)\n",
    "    u_diff = C.sub(u_coch, u_prev_coch)\n",
    "    return (1/2)*C.inner_product(u_diff, u_diff)/deltat\n",
    "\n",
    "energy = partial(p.energy_poisson, S=spx)\n",
    "\n",
    "def obj(u, u_prev, f, k, boundary_values, gamma, deltat):\n",
    "    en = energy(x=u, f=f, k=k, boundary_values=boundary_values, gamma=gamma)\n",
    "    return en + disspot(u, u_prev, deltat)\n",
    "\n",
    "k = 1.\n",
    "f_vec = np.ones(num_nodes, dtype=dt.float_dtype)\n",
    "gamma = 1000.\n",
    "deltat = 0.1\n",
    "\n",
    "u_0 = np.zeros(num_nodes, dt.float_dtype)\n",
    "u_prev = u_0"
   ]
  },
  {
   "cell_type": "code",
   "execution_count": 10,
   "id": "ff963044-5321-4516-86fc-37d2a4e66b92",
   "metadata": {},
   "outputs": [
    {
     "name": "stdout",
     "output_type": "stream",
     "text": [
      "t =  0.1\n",
      "t =  0.2\n",
      "t =  0.30000000000000004\n",
      "t =  0.4\n",
      "t =  0.5\n",
      "t =  0.6000000000000001\n",
      "t =  0.7000000000000001\n",
      "t =  0.8\n",
      "t =  0.9\n",
      "t =  1.0\n"
     ]
    },
    {
     "data": {
      "text/plain": [
       "1"
      ]
     },
     "execution_count": 10,
     "metadata": {},
     "output_type": "execute_result"
    }
   ],
   "source": [
    "sols = []\n",
    "prb = oc.OptimizationProblem(dim=num_nodes, state_dim=num_nodes, objfun=obj)\n",
    "for i in range(10):\n",
    "    print(\"t = \", (i+1)*deltat)\n",
    "    args = {'u_prev': u_prev, 'f': f_vec, 'k': k, 'boundary_values': boundary_values,\n",
    "        'gamma': gamma, 'deltat': deltat}\n",
    "    prb.set_obj_args(args)\n",
    "    u = prb.run(u_prev, ftol_abs=1e-8, ftol_rel=1e-8)\n",
    "    u_prev = u.__array__()\n",
    "    sols.append(u)\n",
    "prb.last_opt_result"
   ]
  },
  {
   "cell_type": "code",
   "execution_count": 13,
   "id": "e9a0d608-1c77-40fe-abd0-920b65601c75",
   "metadata": {},
   "outputs": [
    {
     "data": {
      "application/vnd.jupyter.widget-view+json": {
       "model_id": "282c5fc7ea314805919e8026eb28c5da",
       "version_major": 2,
       "version_minor": 0
      },
      "text/plain": [
       "Widget(value=\"<iframe src='http://localhost:44599/index.html?ui=P_0x7fdafd33d120_2&reconnect=auto' style='widt…"
      ]
     },
     "metadata": {},
     "output_type": "display_data"
    }
   ],
   "source": [
    "p = pv.Plotter()\n",
    "p.add_mesh(mesh, scalars=sols[-1])\n",
    "p.show()"
   ]
  },
  {
   "cell_type": "code",
   "execution_count": 54,
   "id": "247ab9e1-0ee5-495d-879e-f39183ef2f9c",
   "metadata": {},
   "outputs": [],
   "source": [
    "import meshio\n",
    "filename = \"timedata.xdmf\"\n",
    "points = mesh.points\n",
    "cells = {\"tetra\": mesh.cells_dict[\"tetra\"]}\n",
    "with meshio.xdmf.TimeSeriesWriter(filename) as writer:\n",
    "    writer.write_points_cells(points, cells)\n",
    "    for i in range(10):\n",
    "        writer.write_data(i, point_data={\"u\": sols[i]})"
   ]
  }
 ],
 "metadata": {
  "kernelspec": {
   "display_name": "Python 3 (ipykernel)",
   "language": "python",
   "name": "python3"
  },
  "language_info": {
   "codemirror_mode": {
    "name": "ipython",
    "version": 3
   },
   "file_extension": ".py",
   "mimetype": "text/x-python",
   "name": "python",
   "nbconvert_exporter": "python",
   "pygments_lexer": "ipython3",
   "version": "3.10.8"
  }
 },
 "nbformat": 4,
 "nbformat_minor": 5
}
